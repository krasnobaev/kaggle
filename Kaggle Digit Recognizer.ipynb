{
 "metadata": {
  "name": ""
 },
 "nbformat": 3,
 "nbformat_minor": 0,
 "worksheets": [
  {
   "cells": [
    {
     "cell_type": "markdown",
     "metadata": {},
     "source": [
      "https://www.kaggle.com/c/digit-recognizer"
     ]
    },
    {
     "cell_type": "heading",
     "level": 1,
     "metadata": {},
     "source": [
      "Define"
     ]
    },
    {
     "cell_type": "code",
     "collapsed": false,
     "input": [
      "%matplotlib inline\n",
      "import csv\n",
      "import numpy\n",
      "import pylab\n",
      "from array import array\n",
      "from sklearn.neighbors import KNeighborsClassifier\n",
      "\n",
      "#%install_ext http://raw.github.com/jrjohansson/version_information/master/version_information.py\n",
      "#%load_ext version_information\n",
      "%reload_ext version_information"
     ],
     "language": "python",
     "metadata": {},
     "outputs": [],
     "prompt_number": 1
    },
    {
     "cell_type": "code",
     "collapsed": false,
     "input": [
      "from sklearn.ensemble import RandomForestClassifier"
     ],
     "language": "python",
     "metadata": {},
     "outputs": [],
     "prompt_number": 2
    },
    {
     "cell_type": "code",
     "collapsed": false,
     "input": [
      "# Global variables\n",
      "strTrainData = '/usr/data/kaggle.com/digit-recognizer/train.csv'\n",
      "strTestData = '/usr/data/kaggle.com/digit-recognizer/test.csv'\n",
      "strResultsFilePrefix = 'KaggleDigitRecognizer_'\n",
      "strResultsFilePostfix = '_result.csv'\n",
      "strAllResultsFile = 'KaggleDigitRecognizer_all_results.csv'\n",
      "listTrainData = []\n",
      "listTrainAnswers = []\n",
      "listTestData = []\n",
      "\n",
      "listTestResult = []\n",
      "\n",
      "listAllResults = []\n",
      "listAllResultsIndex = []"
     ],
     "language": "python",
     "metadata": {},
     "outputs": [],
     "prompt_number": 3
    },
    {
     "cell_type": "heading",
     "level": 2,
     "metadata": {},
     "source": [
      "Data Load/Save "
     ]
    },
    {
     "cell_type": "code",
     "collapsed": false,
     "input": [
      "def loadTrainData():\n",
      "    global listTrainData, listTrainAnswers\n",
      "    listTrainData = []\n",
      "    listTrainAnswers = []\n",
      "    with open(strTrainData, 'r') as csvfile:\n",
      "        for i,row in enumerate(csv.reader(csvfile)):\n",
      "            if i>0:\n",
      "                listTrainData.append(row[1:])\n",
      "                listTrainAnswers.append(row[0])\n",
      "\n",
      "def loadTestData():\n",
      "    global listTestData\n",
      "    listTestData = []\n",
      "    with open(strTestData, 'r') as csvfile:\n",
      "        for i,row in enumerate(csv.reader(csvfile)):\n",
      "            if i>0:\n",
      "                listTestData.append(row)\n",
      "\n",
      "def loadResults(fname, index=''):\n",
      "    global listAllResultsIndex, listAllResults\n",
      "    if fname is \"all\":\n",
      "        with open(strAllResultsFile, 'r') as csvfile:\n",
      "            for i, row in enumerate(csv.reader(csvfile)):\n",
      "                if i>0:\n",
      "                    listAllResults.append(row)\n",
      "                else:\n",
      "                    listAllResultsIndex = row\n",
      "        listAllResults = zip (*listAllResults)\n",
      "    else:\n",
      "        with open(fname, 'r') as f:\n",
      "            listAllResultsIndex.append(index)\n",
      "            listAllResults.append([])\n",
      "            for row in f:\n",
      "                listAllResults[listAllResultsIndex.index(index)\n",
      "                               ].append(row.replace(\"\\n\",\"\"))"
     ],
     "language": "python",
     "metadata": {},
     "outputs": [],
     "prompt_number": 4
    },
    {
     "cell_type": "code",
     "collapsed": false,
     "input": [
      "def saveSomeResult(num):\n",
      "    with open(strResultsFile, 'w') as f:\n",
      "        try:\n",
      "            for i in num:\n",
      "                f.write(listTestResult[i].replace(\"'\", \"\") + \"\\n\")\n",
      "        except:\n",
      "            for i in range(0,num):\n",
      "                f.write(listTestResult[i].replace(\"'\", \"\") + \"\\n\")\n",
      "\n",
      "#(index == 'all') ? save(listAllResults[]) : save(listTestResult[])\n",
      "def saveResult(index):\n",
      "    if index is \"all\":\n",
      "        with open(strAllResultsFile, 'w') as csvfile:\n",
      "            cw = csv.writer(csvfile, delimiter=',')\n",
      "            cw.writerow(listAllResultsIndex)\n",
      "            cw.writerows(zip(*listAllResults))\n",
      "    else:\n",
      "        with open(strResultsFilePrefix + index +\n",
      "                  strResultsFilePostfix, 'w') as csvfile:\n",
      "            cw = csv.writer(csvfile, delimiter=',')\n",
      "            cw.writerows(listTestResult)"
     ],
     "language": "python",
     "metadata": {},
     "outputs": [],
     "prompt_number": 5
    },
    {
     "cell_type": "code",
     "collapsed": false,
     "input": [
      "def makeKaggleSubmission(case):\n",
      "    if case is 'cur':\n",
      "        with open(strResultsFilePrefix + case + \"_submission\" +\n",
      "                  strResultsFilePostfix, 'w') as csvfile:\n",
      "            cw = csv.writer(csvfile, delimiter=',')\n",
      "            cw.writerow(['ImageId', 'Label'])\n",
      "            cw.writerows(enumerate(listTestResult, start=1))\n",
      "    else:\n",
      "        print \"Not Implemented\""
     ],
     "language": "python",
     "metadata": {},
     "outputs": [],
     "prompt_number": 41
    },
    {
     "cell_type": "heading",
     "level": 2,
     "metadata": {},
     "source": [
      "Visualization"
     ]
    },
    {
     "cell_type": "code",
     "collapsed": false,
     "input": [
      "#dataset = train | test\n",
      "#memory = disk | ram\n",
      "#index = dogit position in dataset\n",
      "def showDigit(dataset,memory,index):\n",
      "    digit = []\n",
      "    \n",
      "    if memory == 'disk':\n",
      "        if dataset == 'train':\n",
      "            with open(strTrainData, 'rb') as csvfile:\n",
      "                for i, row in enumerate(csv.reader(csvfile)):\n",
      "                    if i-1 == index:\n",
      "                        digit = row[1:]\n",
      "                        break\n",
      "        elif dataset == 'test':\n",
      "            with open(strTestData, 'rb') as csvfile:\n",
      "                for i, row in enumerate(csv.reader(csvfile)):\n",
      "                    if i-1 == index:\n",
      "                        digit = row\n",
      "                        break\n",
      "        else:\n",
      "            print 'Unknown dataset'\n",
      "            return 1\n",
      "    elif memory == 'ram':\n",
      "        if dataset == 'train':\n",
      "            digit = listTrainData[index]\n",
      "        elif dataset == 'test':\n",
      "            digit = listTestData[index]\n",
      "        else:\n",
      "            print 'Unknown dataset'\n",
      "            return 2\n",
      "    else:\n",
      "        print 'Unknown memory'\n",
      "        return 3\n",
      "    \n",
      "    pylab.pcolor(numpy.divide(\n",
      "                    numpy.asarray(digit).reshape(28,28).astype(float),\n",
      "                    255.0),\n",
      "                 cmap=pylab.cm.gray_r)\n",
      "    pylab.colorbar()\n",
      "    pylab.axis([1, 28, 1, 28])\n",
      "    if dataset == 'train':\n",
      "        pylab.title('Train data. Digit - ' + `index` +\n",
      "                    '; Answer - ' + listTrainAnswers[index])\n",
      "    elif dataset == 'test':\n",
      "        try:\n",
      "            pylab.title('Test data. Digit - ' + `index` +\n",
      "                        '; Guess is - ' + listTestResult[index])\n",
      "        except:\n",
      "            pylab.title('Test data. Digit - ' + `index` +\n",
      "                        '; Not recognized')\n",
      "    pylab.show()\n",
      "    \n",
      "    return 0\n",
      "\n",
      "def showData(dataset,memory,region):\n",
      "    for i in region:\n",
      "        showDigit(dataset,memory,i)"
     ],
     "language": "python",
     "metadata": {},
     "outputs": [],
     "prompt_number": 7
    },
    {
     "cell_type": "heading",
     "level": 2,
     "metadata": {},
     "source": [
      "Machine Learning"
     ]
    },
    {
     "cell_type": "markdown",
     "metadata": {},
     "source": [
      "http://scipy-lectures.github.io/advanced/scikit-learn/"
     ]
    },
    {
     "cell_type": "code",
     "collapsed": false,
     "input": [
      "def train(alg):\n",
      "    if alg is \"knn\":\n",
      "        global knn\n",
      "        knn = KNeighborsClassifier(n_neighbors=10)\n",
      "        r = knn.fit(listTrainData, listTrainAnswers)\n",
      "        sr = \"knn.fit(listTrainData, listTrainAnswers) -> \" + `r`\n",
      "    elif alg is \"rf\":\n",
      "        global rf\n",
      "        rf = RandomForestClassifier()\n",
      "        r = rf.fit(listTrainData, listTrainAnswers)\n",
      "        sr = \"rf.fit(listTrainData, listTrainAnswers) -> \" + `r`\n",
      "    print sr\n",
      "    return r\n",
      "\n",
      "def predict(alg, num):\n",
      "    global listTestResult\n",
      "    listTestResult = []\n",
      "    \n",
      "    if alg is \"knn\":\n",
      "        if num is \"all\":\n",
      "            for i in listTestData:\n",
      "                listTestResult.append(\n",
      "                    (`knn.predict(i)[0]`).replace(\"'\", \"\"))\n",
      "        else:\n",
      "            try:\n",
      "                for i in num:\n",
      "                    listTestResult.append(\n",
      "                        (`knn.predict(listTestData[i])[0]`).replace(\"'\", \"\"))\n",
      "            except TypeError:\n",
      "                for i in range(0,num):\n",
      "                    listTestResult.append(\n",
      "                        (`knn.predict(listTestData[i])[0]`).replace(\"'\", \"\"))\n",
      "    elif alg is \"rf\":\n",
      "        if num is \"all\":\n",
      "            for i in listTestData:\n",
      "                listTestResult.append(\n",
      "                        (`rf.predict(i)[0]`).replace(\"'\", \"\"))\n",
      "        else:\n",
      "            try:\n",
      "                for i in num:\n",
      "                    listTestResult.append(\n",
      "                        (`rf.predict(listTestData[i])[0]`).replace(\"'\", \"\"))\n",
      "            except TypeError:\n",
      "                for i in range(0,num):\n",
      "                    listTestResult.append(\n",
      "                        (`rf.predict(listTestData[i])[0]`).replace(\"'\", \"\"))        \n",
      "    else:\n",
      "        print \"Unknown method.\"\n",
      "    r = len(listTestResult)\n",
      "    print \"len(listTestResult) -> \" + `r`\n",
      "    return r"
     ],
     "language": "python",
     "metadata": {},
     "outputs": [],
     "prompt_number": 8
    },
    {
     "cell_type": "heading",
     "level": 2,
     "metadata": {},
     "source": [
      "benchmarks"
     ]
    },
    {
     "cell_type": "code",
     "collapsed": false,
     "input": [
      "def showStats():\n",
      "    print \"len(listTrainData) -> \" + `len(listTrainData)`\n",
      "    print \"len(listTrainAnswers) -> \" + `len(listTrainAnswers)`\n",
      "    print \"listTrainAnswers[0] -> \" + `listTrainAnswers[0]`\n",
      "    print \"len(listTestData) -> \" + `len(listTestData)`\n",
      "    print \"len(listTestResult) -> \" + `len(listTestResult)`\n",
      "    print \"listTestResult[0] -> \" + `listTestResult[0]`\n",
      "    print \"listAllResultsIndex -> \" + `listAllResultsIndex`\n",
      "    print \"len(listAllResults) -> \" + `len(listAllResults)`\n",
      "    print \"len(listAllResults[0]) -> \" + `len(listAllResults[0])`\n",
      "    # TODO: call to version_information inside function not work, why?\n",
      "    %version_information csv, numpy, pylab, sklearn\n",
      "    \n",
      "    #print len(listAllResults[listAllResultsIndex.index(\"knn\")])\n",
      "    #print listAllResults\n",
      "    #zip (*listAllResults[0])\n",
      "    #cat Results.csv"
     ],
     "language": "python",
     "metadata": {},
     "outputs": [],
     "prompt_number": 9
    },
    {
     "cell_type": "code",
     "collapsed": false,
     "input": [
      "def showDuration(func, imp, n=1):\n",
      "    if __name__ == '__main__':\n",
      "        import timeit\n",
      "        t = timeit.timeit(func,\n",
      "                          setup=\"gc.enable(); from __main__ import \" + imp,\n",
      "                          number=n)\n",
      "        print \"Function \" + func + \" done in \" + `t` + \" sec\""
     ],
     "language": "python",
     "metadata": {},
     "outputs": [],
     "prompt_number": 10
    },
    {
     "cell_type": "heading",
     "level": 1,
     "metadata": {},
     "source": [
      "main()"
     ]
    },
    {
     "cell_type": "code",
     "collapsed": false,
     "input": [
      "loadTrainData()\n",
      "loadTestData()"
     ],
     "language": "python",
     "metadata": {},
     "outputs": [],
     "prompt_number": 11
    },
    {
     "cell_type": "code",
     "collapsed": false,
     "input": [
      "pwd"
     ],
     "language": "python",
     "metadata": {},
     "outputs": [
      {
       "metadata": {},
       "output_type": "pyout",
       "prompt_number": 35,
       "text": [
        "u'/home/sypwex/Documents/src/python/notebooks'"
       ]
      }
     ],
     "prompt_number": 35
    },
    {
     "cell_type": "code",
     "collapsed": false,
     "input": [
      "showDuration(\"loadTrainData()\", \"loadTrainData\")"
     ],
     "language": "python",
     "metadata": {},
     "outputs": [
      {
       "output_type": "stream",
       "stream": "stdout",
       "text": [
        "Function loadTrainData() done in 5.536501884460449 sec\n"
       ]
      }
     ],
     "prompt_number": 66
    },
    {
     "cell_type": "heading",
     "level": 2,
     "metadata": {},
     "source": [
      "Nearest Neighbors"
     ]
    },
    {
     "cell_type": "markdown",
     "metadata": {},
     "source": [
      "http://scikit-learn.org/stable/modules/neighbors.html"
     ]
    },
    {
     "cell_type": "code",
     "collapsed": false,
     "input": [
      "showDuration(\"train('knn')\", \"train\")\n",
      "showDuration(\"predict('knn',100)\", \"predict\")"
     ],
     "language": "python",
     "metadata": {},
     "outputs": [
      {
       "output_type": "stream",
       "stream": "stdout",
       "text": [
        "'knn.fit(listTrainData, listTrainAnswers) -> 'KNeighborsClassifier(algorithm='auto', leaf_size=30, metric='minkowski',\n",
        "           n_neighbors=10, p=2, weights='uniform')\n",
        "Function train('knn') done in 73.69173693656921 sec\n",
        "len(listTestResult) -> 1000"
       ]
      },
      {
       "output_type": "stream",
       "stream": "stdout",
       "text": [
        "\n",
        "Function predict('knn',1000) done in 181.02510118484497 sec\n"
       ]
      }
     ],
     "prompt_number": 58
    },
    {
     "cell_type": "code",
     "collapsed": false,
     "input": [
      "#showDuration(\"predict('all')\", \"predict\")\n",
      "#Prediction of all digits done in 5727.748878955841 sec"
     ],
     "language": "python",
     "metadata": {},
     "outputs": [
      {
       "output_type": "stream",
       "stream": "stdout",
       "text": [
        "Function predict(10) done in 1.8653879165649414 sec\n",
        "Function predict(100) done in 17.690642833709717 sec"
       ]
      },
      {
       "output_type": "stream",
       "stream": "stdout",
       "text": [
        "\n",
        "Function predict(1000) done in 176.53345704078674 sec"
       ]
      },
      {
       "output_type": "stream",
       "stream": "stdout",
       "text": [
        "\n"
       ]
      }
     ],
     "prompt_number": 399
    },
    {
     "cell_type": "code",
     "collapsed": false,
     "input": [
      "saveResult('knn')"
     ],
     "language": "python",
     "metadata": {},
     "outputs": [],
     "prompt_number": 12
    },
    {
     "cell_type": "code",
     "collapsed": false,
     "input": [
      "loadResults('KaggleDigitRecognizer_kNN_result__.csv', \"knn\")"
     ],
     "language": "python",
     "metadata": {},
     "outputs": [],
     "prompt_number": 12
    },
    {
     "cell_type": "heading",
     "level": 2,
     "metadata": {},
     "source": [
      "Random Forest"
     ]
    },
    {
     "cell_type": "markdown",
     "metadata": {},
     "source": [
      "http://scikit-learn.org/stable/modules/generated/sklearn.ensemble.RandomForestClassifier.html"
     ]
    },
    {
     "cell_type": "code",
     "collapsed": false,
     "input": [
      "showDuration(\"train('rf')\", \"train\")\n",
      "showDuration(\"predict('rf','all')\", \"predict\")"
     ],
     "language": "python",
     "metadata": {},
     "outputs": [
      {
       "output_type": "stream",
       "stream": "stdout",
       "text": [
        "rf.fit(listTrainData, listTrainAnswers) -> RandomForestClassifier(bootstrap=True, compute_importances=None,\n",
        "            criterion='gini', max_depth=None, max_features='auto',\n",
        "            min_density=None, min_samples_leaf=1, min_samples_split=2,\n",
        "            n_estimators=10, n_jobs=1, oob_score=False, random_state=None,\n",
        "            verbose=0)\n",
        "Function train('rf') done in 29.49443006515503 sec\n",
        "len(listTestResult) -> 28000"
       ]
      },
      {
       "output_type": "stream",
       "stream": "stdout",
       "text": [
        "\n",
        "Function predict('rf','all') done in 30.20775008201599 sec\n"
       ]
      }
     ],
     "prompt_number": 38
    },
    {
     "cell_type": "code",
     "collapsed": false,
     "input": [
      "saveResult('rf10')"
     ],
     "language": "python",
     "metadata": {},
     "outputs": [],
     "prompt_number": 39
    },
    {
     "cell_type": "code",
     "collapsed": false,
     "input": [
      "loadResults('KaggleDigitRecognizer_rf10_result.csv', \"rf10\")"
     ],
     "language": "python",
     "metadata": {},
     "outputs": [],
     "prompt_number": 60
    },
    {
     "cell_type": "heading",
     "level": 2,
     "metadata": {},
     "source": [
      "Analysis"
     ]
    },
    {
     "cell_type": "code",
     "collapsed": false,
     "input": [
      "#showDigit('test','disk',0)\n",
      "showDigit('test','ram',350)\n",
      "#showDigit('train','disk',0)\n",
      "#showDigit('train','ram',0)"
     ],
     "language": "python",
     "metadata": {},
     "outputs": [
      {
       "metadata": {},
       "output_type": "display_data",
       "png": "[encoded data removed]",
       "text": [
        "<matplotlib.figure.Figure at 0x7fe479e7b790>"
       ]
      },
      {
       "metadata": {},
       "output_type": "pyout",
       "prompt_number": 14,
       "text": [
        "0"
       ]
      }
     ],
     "prompt_number": 14
    },
    {
     "cell_type": "code",
     "collapsed": false,
     "input": [
      "%pwd\n",
      "showStats()\n",
      "%version_information csv, numpy, pylab, sklearn"
     ],
     "language": "python",
     "metadata": {},
     "outputs": [
      {
       "output_type": "stream",
       "stream": "stdout",
       "text": [
        "len(listTrainData) -> 42000\n",
        "len(listTrainAnswers) -> 42000\n",
        "listTrainAnswers[0] -> '1'\n",
        "len(listTestData) -> 28000\n",
        "len(listTestResult) -> 28000\n",
        "listTestResult[0] -> '2'\n",
        "listAllResultsIndex -> ['knn']\n",
        "len(listAllResults) -> 1\n",
        "len(listAllResults[0]) -> 28000\n"
       ]
      },
      {
       "html": [
        "<table><tr><th>Software</th><th>Version</th></tr><tr><td>Python</td><td>2.7.6 (default, Mar 22 2014, 22:59:56) [GCC 4.8.2]</td></tr><tr><td>IPython</td><td>1.2.1</td></tr><tr><td>OS</td><td>posix [linux2]</td></tr><tr><td>csv</td><td>1.0</td></tr><tr><td>numpy</td><td>1.8.1</td></tr><tr><td>pylab</td><td>pylab</td></tr><tr><td>sklearn</td><td>0.14.1</td></tr><tr><td colspan='2'>Sun Apr 27 21:18:16 2014 MSK</td></tr></table>"
       ],
       "json": [
        "{\"Software versions\": [{\"version\": \"2.7.6 (default, Mar 22 2014, 22:59:56) [GCC 4.8.2]\", \"module\": \"Python\"}, {\"version\": \"1.2.1\", \"module\": \"IPython\"}, {\"version\": \"posix [linux2]\", \"module\": \"OS\"}, {\"version\": \"1.0\", \"module\": \"csv\"}, {\"version\": \"1.8.1\", \"module\": \"numpy\"}, {\"version\": \"pylab\", \"module\": \"pylab\"}, {\"version\": \"0.14.1\", \"module\": \"sklearn\"}]}"
       ],
       "latex": [
        "\\begin{tabular}{|l|l|}\\hline\n",
        "{\\bf Software} & {\\bf Version} \\\\ \\hline\\hline\n",
        "Python & 2.7.6 (default, Mar 22 2014, 22:59:56) [GCC 4.8.2] \\\\ \\hline\n",
        "IPython & 1.2.1 \\\\ \\hline\n",
        "OS & posix [linux2] \\\\ \\hline\n",
        "csv & 1.0 \\\\ \\hline\n",
        "numpy & 1.8.1 \\\\ \\hline\n",
        "pylab & pylab \\\\ \\hline\n",
        "sklearn & 0.14.1 \\\\ \\hline\n",
        "\\hline \\multicolumn{2}{|l|}{Sun Apr 27 21:18:16 2014 MSK} \\\\ \\hline\n",
        "\\end{tabular}\n"
       ],
       "metadata": {},
       "output_type": "pyout",
       "prompt_number": 15,
       "text": [
        "Software versions\n",
        "Python 2.7.6 (default, Mar 22 2014, 22:59:56) [GCC 4.8.2]\n",
        "IPython 1.2.1\n",
        "OS posix [linux2]\n",
        "csv 1.0\n",
        "numpy 1.8.1\n",
        "pylab pylab\n",
        "sklearn 0.14.1\n",
        "<tr><td colspan='2'>Sun Apr 27 21:18:16 2014 MSK</td></tr>"
       ]
      }
     ],
     "prompt_number": 15
    },
    {
     "cell_type": "heading",
     "level": 2,
     "metadata": {},
     "source": [
      "Submit, save all results"
     ]
    },
    {
     "cell_type": "code",
     "collapsed": false,
     "input": [
      "makeKaggleSubmission('cur')"
     ],
     "language": "python",
     "metadata": {},
     "outputs": [],
     "prompt_number": 42
    },
    {
     "cell_type": "code",
     "collapsed": false,
     "input": [
      "saveResult('all')"
     ],
     "language": "python",
     "metadata": {},
     "outputs": [],
     "prompt_number": 13
    },
    {
     "cell_type": "heading",
     "level": 1,
     "metadata": {},
     "source": [
      "CurWork"
     ]
    },
    {
     "cell_type": "code",
     "collapsed": false,
     "input": [
      "showData('test','ram',range(0,10))"
     ],
     "language": "python",
     "metadata": {},
     "outputs": [
      {
       "metadata": {},
       "output_type": "display_data",
       "png": "[encoded data removed]",
       "text": [
        "<matplotlib.figure.Figure at 0x7f65e7e37c10>"
       ]
      },
      {
       "metadata": {},
       "output_type": "display_data",
       "png": "[encoded data removed]",
       "text": [
        "<matplotlib.figure.Figure at 0x7f65e816a990>"
       ]
      },
      {
       "metadata": {},
       "output_type": "display_data",
       "png": "[encoded data removed]",
       "text": [
        "<matplotlib.figure.Figure at 0x7f65e80e5390>"
       ]
      },
      {
       "metadata": {},
       "output_type": "display_data",
       "png": "[encoded data removed]",
       "text": [
        "<matplotlib.figure.Figure at 0x7f65e814a7d0>"
       ]
      },
      {
       "metadata": {},
       "output_type": "display_data",
       "png": "[encoded data removed]",
       "text": [
        "<matplotlib.figure.Figure at 0x7f65e7ff2390>"
       ]
      },
      {
       "metadata": {},
       "output_type": "display_data",
       "png": "[encoded data removed]",
       "text": [
        "<matplotlib.figure.Figure at 0x7f65e808bc90>"
       ]
      },
      {
       "metadata": {},
       "output_type": "display_data",
       "png": "[encoded data removed]",
       "text": [
        "<matplotlib.figure.Figure at 0x7f65e80d9f90>"
       ]
      },
      {
       "metadata": {},
       "output_type": "display_data",
       "png": "[encoded data removed]",
       "text": [
        "<matplotlib.figure.Figure at 0x7f65e814a7d0>"
       ]
      },
      {
       "metadata": {},
       "output_type": "display_data",
       "png": "[encoded data removed]",
       "text": [
        "<matplotlib.figure.Figure at 0x7f662d95c510>"
       ]
      },
      {
       "metadata": {},
       "output_type": "display_data",
       "png": "[encoded data removed]",
       "text": [
        "<matplotlib.figure.Figure at 0x7f65e808b210>"
       ]
      }
     ],
     "prompt_number": 27
    },
    {
     "cell_type": "heading",
     "level": 1,
     "metadata": {},
     "source": [
      "Stub"
     ]
    },
    {
     "cell_type": "markdown",
     "metadata": {},
     "source": [
      "#similar dataset in sklearn\n",
      "#http://scipy-lectures.github.io/advanced/scikit-learn/\n",
      "def loadDataEasyWay():\n",
      "    from sklearn import datasets\n",
      "    return datasets.load_digits()\n",
      "    \n",
      "def demoEasyWay():\n",
      "    digits = loadDataEasyWay()\n",
      "    digits.images.shape\n",
      "    pylab.pcolor(digits.images[0], cmap=pylab.cm.gray_r)"
     ]
    },
    {
     "cell_type": "code",
     "collapsed": false,
     "input": [
      "saveResults(predict(10))\n",
      "#saveResults(predict(range(20,30)))"
     ],
     "language": "python",
     "metadata": {},
     "outputs": [
      {
       "output_type": "stream",
       "stream": "stdout",
       "text": [
        "\n"
       ]
      }
     ],
     "prompt_number": 127
    },
    {
     "cell_type": "code",
     "collapsed": false,
     "input": [
      "import cProfile\n",
      "import re\n",
      "cProfile.run('re.compile(\"foo|bar\")')"
     ],
     "language": "python",
     "metadata": {},
     "outputs": [
      {
       "output_type": "stream",
       "stream": "stdout",
       "text": [
        "         5 function calls in 0.000 seconds\n",
        "\n",
        "   Ordered by: standard name\n",
        "\n",
        "   ncalls  tottime  percall  cumtime  percall filename:lineno(function)\n",
        "        1    0.000    0.000    0.000    0.000 <string>:1(<module>)\n",
        "        1    0.000    0.000    0.000    0.000 re.py:188(compile)\n",
        "        1    0.000    0.000    0.000    0.000 re.py:226(_compile)\n",
        "        1    0.000    0.000    0.000    0.000 {method 'disable' of '_lsprof.Profiler' objects}\n",
        "        1    0.000    0.000    0.000    0.000 {method 'get' of 'dict' objects}\n",
        "\n",
        "\n"
       ]
      }
     ],
     "prompt_number": 125
    }
   ],
   "metadata": {}
  }
 ]
}